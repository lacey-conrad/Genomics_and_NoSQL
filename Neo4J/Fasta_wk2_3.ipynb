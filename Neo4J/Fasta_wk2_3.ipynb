{
 "cells": [
  {
   "cell_type": "code",
   "execution_count": 1,
   "id": "f21ea9f6",
   "metadata": {},
   "outputs": [],
   "source": [
    "from Bio.SeqIO import parse \n",
    "from Bio.SeqRecord import SeqRecord \n",
    "from Bio.Seq import Seq \n",
    "from Bio import SeqIO\n",
    "import pylab\n",
    "import pandas as pd\n",
    "import numpy as np\n",
    "import json\n",
    "import csv "
   ]
  },
  {
   "cell_type": "code",
   "execution_count": null,
   "id": "36c60f09",
   "metadata": {},
   "outputs": [],
   "source": [
    "identifiers = []\n",
    "lengths = []\n",
    "records = []\n",
    "names = []\n",
    "desc = []\n",
    "anno = []"
   ]
  },
  {
   "cell_type": "code",
   "execution_count": null,
   "id": "4d9c7049",
   "metadata": {},
   "outputs": [],
   "source": [
    "with open('ls_orchid.fasta') as fasta_file:  # Will close handle cleanly\n",
    "    for seq_record in SeqIO.parse(fasta_file, 'fasta'):  # (generator)\n",
    "        identifiers.append(seq_record.id)\n",
    "        lengths.append(len(seq_record.seq))\n",
    "        records.append(seq_record.seq)    \n",
    "        names.append(seq_record.name) \n",
    "        desc.append(seq_record.description) \n",
    "        anno.append(seq_record.annotations) "
   ]
  },
  {
   "cell_type": "code",
   "execution_count": null,
   "id": "637f159f",
   "metadata": {},
   "outputs": [],
   "source": [
    "print(identifiers[0])"
   ]
  },
  {
   "cell_type": "code",
   "execution_count": null,
   "id": "74fae03c",
   "metadata": {},
   "outputs": [],
   "source": [
    "print(names[0])"
   ]
  },
  {
   "cell_type": "code",
   "execution_count": null,
   "id": "9b12f174",
   "metadata": {},
   "outputs": [],
   "source": [
    "df = pd.DataFrame(names)"
   ]
  },
  {
   "cell_type": "code",
   "execution_count": null,
   "id": "afc91290",
   "metadata": {},
   "outputs": [],
   "source": [
    "df.head()"
   ]
  },
  {
   "cell_type": "code",
   "execution_count": null,
   "id": "cc3c443c",
   "metadata": {},
   "outputs": [],
   "source": [
    "#items = []\n",
    "for i in names:\n",
    "    new = i.split('|')\n",
    "    #print(new)\n",
    "    items2 = []\n",
    "    \n",
    "    #items = ''\n",
    "    for j in new:\n",
    "        #print(j)\n",
    "    \n",
    "        items + 'j'\n",
    "   # items2.append\n",
    "    #print(items)"
   ]
  },
  {
   "cell_type": "code",
   "execution_count": null,
   "id": "76d0cb3c",
   "metadata": {},
   "outputs": [],
   "source": []
  },
  {
   "cell_type": "code",
   "execution_count": null,
   "id": "f2b32e22",
   "metadata": {},
   "outputs": [],
   "source": [
    "seqs={}\n",
    "with open('mouse_prot.fasta') as fasta_file:\n",
    "    for line in fasta_file:\n",
    "        line = line.rstrip() \n",
    "        # distinguish header from sequenceif \n",
    "        if line[0] == '>': # or line.startswith('>')\n",
    "            words = line.split()\n",
    "            name = words[0][1:]\n",
    "            seqs[name] = ''\n",
    "        else : \n",
    "            # sequence, not \n",
    "            seqs[name] = seqs[name] + line\n",
    "    "
   ]
  },
  {
   "cell_type": "code",
   "execution_count": null,
   "id": "03b1b016",
   "metadata": {},
   "outputs": [],
   "source": [
    "type(seqs)"
   ]
  },
  {
   "cell_type": "code",
   "execution_count": null,
   "id": "3b8751ef",
   "metadata": {},
   "outputs": [],
   "source": [
    "seqs"
   ]
  },
  {
   "cell_type": "code",
   "execution_count": null,
   "id": "c396f9d7",
   "metadata": {},
   "outputs": [],
   "source": [
    "x = seqs.keys()\n",
    "x"
   ]
  },
  {
   "cell_type": "code",
   "execution_count": null,
   "id": "576a5beb",
   "metadata": {},
   "outputs": [],
   "source": [
    "df = pd.DataFrame.from_dict(seqs, orient = 'index')\n",
    "df.head()"
   ]
  },
  {
   "cell_type": "code",
   "execution_count": null,
   "id": "f1e90e4b",
   "metadata": {},
   "outputs": [],
   "source": [
    "df.columns = ['sequence']"
   ]
  },
  {
   "cell_type": "code",
   "execution_count": null,
   "id": "d1e9fad8",
   "metadata": {},
   "outputs": [],
   "source": [
    "df.head()"
   ]
  },
  {
   "cell_type": "code",
   "execution_count": null,
   "id": "2932c8aa",
   "metadata": {},
   "outputs": [],
   "source": [
    "df.index.name = 'gene'"
   ]
  },
  {
   "cell_type": "code",
   "execution_count": null,
   "id": "58eee5a4",
   "metadata": {},
   "outputs": [],
   "source": [
    "df.head()"
   ]
  },
  {
   "cell_type": "code",
   "execution_count": null,
   "id": "3ff6dc73",
   "metadata": {},
   "outputs": [],
   "source": [
    "df = df.reset_index()\n",
    "df.head()"
   ]
  },
  {
   "cell_type": "code",
   "execution_count": null,
   "id": "8c576fb0",
   "metadata": {},
   "outputs": [],
   "source": [
    "df = df.loc[0:3]\n",
    "df"
   ]
  },
  {
   "cell_type": "code",
   "execution_count": null,
   "id": "e4f25335",
   "metadata": {},
   "outputs": [],
   "source": []
  },
  {
   "cell_type": "markdown",
   "id": "92c634f3",
   "metadata": {},
   "source": [
    "# Small ID mouse chromosom file"
   ]
  },
  {
   "cell_type": "code",
   "execution_count": 11,
   "id": "8e6e7e2b",
   "metadata": {},
   "outputs": [],
   "source": [
    "df_mouse = pd.read_csv ('mouse3.txt')\n",
    "df_human = pd.read_csv ('human3.txt')\n",
    "df_chicken = pd.read_csv ('chicken3.txt')"
   ]
  },
  {
   "cell_type": "code",
   "execution_count": null,
   "id": "d4a28d5b",
   "metadata": {},
   "outputs": [],
   "source": [
    "df_human = pd.read_csv ('human3.txt')"
   ]
  },
  {
   "cell_type": "code",
   "execution_count": 13,
   "id": "67ecbab3",
   "metadata": {},
   "outputs": [],
   "source": [
    "df_mouse = df_mouse.rename(columns={'Gene stable ID': 'gene_id', 'Transcript stable ID':'transcript_id','Gene start (bp)':'gene_start','Gene end (bp)':'gene_end'})\n",
    "df_human = df_human.rename(columns={'Gene stable ID': 'gene_id', 'Transcript stable ID':'transcript_id','Gene start (bp)':'gene_start','Gene end (bp)':'gene_end'})\n",
    "df_chicken = df_chicken.rename(columns={'Gene stable ID': 'gene_id', 'Transcript stable ID':'transcript_id','Gene start (bp)':'gene_start','Gene end (bp)':'gene_end'})"
   ]
  },
  {
   "cell_type": "code",
   "execution_count": 14,
   "id": "16c9bb2b",
   "metadata": {},
   "outputs": [
    {
     "data": {
      "text/html": [
       "<div>\n",
       "<style scoped>\n",
       "    .dataframe tbody tr th:only-of-type {\n",
       "        vertical-align: middle;\n",
       "    }\n",
       "\n",
       "    .dataframe tbody tr th {\n",
       "        vertical-align: top;\n",
       "    }\n",
       "\n",
       "    .dataframe thead th {\n",
       "        text-align: right;\n",
       "    }\n",
       "</style>\n",
       "<table border=\"1\" class=\"dataframe\">\n",
       "  <thead>\n",
       "    <tr style=\"text-align: right;\">\n",
       "      <th></th>\n",
       "      <th>gene_id</th>\n",
       "      <th>transcript_id</th>\n",
       "      <th>gene_start</th>\n",
       "      <th>gene_end</th>\n",
       "    </tr>\n",
       "  </thead>\n",
       "  <tbody>\n",
       "    <tr>\n",
       "      <th>0</th>\n",
       "      <td>ENSMUSG00000102846</td>\n",
       "      <td>ENSMUST00000193165</td>\n",
       "      <td>68240529</td>\n",
       "      <td>68241113</td>\n",
       "    </tr>\n",
       "    <tr>\n",
       "      <th>1</th>\n",
       "      <td>ENSMUSG00000070342</td>\n",
       "      <td>ENSMUST00000180599</td>\n",
       "      <td>148927323</td>\n",
       "      <td>148931381</td>\n",
       "    </tr>\n",
       "    <tr>\n",
       "      <th>2</th>\n",
       "      <td>ENSMUSG00000070342</td>\n",
       "      <td>ENSMUST00000093950</td>\n",
       "      <td>148927323</td>\n",
       "      <td>148931381</td>\n",
       "    </tr>\n",
       "    <tr>\n",
       "      <th>3</th>\n",
       "      <td>ENSMUSG00000097515</td>\n",
       "      <td>ENSMUST00000181305</td>\n",
       "      <td>94316702</td>\n",
       "      <td>94320226</td>\n",
       "    </tr>\n",
       "    <tr>\n",
       "      <th>4</th>\n",
       "      <td>ENSMUSG00000103345</td>\n",
       "      <td>ENSMUST00000195366</td>\n",
       "      <td>68315116</td>\n",
       "      <td>68322033</td>\n",
       "    </tr>\n",
       "  </tbody>\n",
       "</table>\n",
       "</div>"
      ],
      "text/plain": [
       "              gene_id       transcript_id  gene_start   gene_end\n",
       "0  ENSMUSG00000102846  ENSMUST00000193165    68240529   68241113\n",
       "1  ENSMUSG00000070342  ENSMUST00000180599   148927323  148931381\n",
       "2  ENSMUSG00000070342  ENSMUST00000093950   148927323  148931381\n",
       "3  ENSMUSG00000097515  ENSMUST00000181305    94316702   94320226\n",
       "4  ENSMUSG00000103345  ENSMUST00000195366    68315116   68322033"
      ]
     },
     "execution_count": 14,
     "metadata": {},
     "output_type": "execute_result"
    }
   ],
   "source": [
    "df_mouse.head()"
   ]
  },
  {
   "cell_type": "code",
   "execution_count": null,
   "id": "696b57ea",
   "metadata": {},
   "outputs": [],
   "source": []
  },
  {
   "cell_type": "code",
   "execution_count": null,
   "id": "3106443c",
   "metadata": {},
   "outputs": [],
   "source": []
  },
  {
   "cell_type": "code",
   "execution_count": 8,
   "id": "56b131bb",
   "metadata": {},
   "outputs": [
    {
     "data": {
      "text/html": [
       "<div>\n",
       "<style scoped>\n",
       "    .dataframe tbody tr th:only-of-type {\n",
       "        vertical-align: middle;\n",
       "    }\n",
       "\n",
       "    .dataframe tbody tr th {\n",
       "        vertical-align: top;\n",
       "    }\n",
       "\n",
       "    .dataframe thead th {\n",
       "        text-align: right;\n",
       "    }\n",
       "</style>\n",
       "<table border=\"1\" class=\"dataframe\">\n",
       "  <thead>\n",
       "    <tr style=\"text-align: right;\">\n",
       "      <th></th>\n",
       "      <th>gene_id</th>\n",
       "      <th>transcript_id</th>\n",
       "      <th>gene_start</th>\n",
       "      <th>gene_end</th>\n",
       "    </tr>\n",
       "  </thead>\n",
       "  <tbody>\n",
       "    <tr>\n",
       "      <th>0</th>\n",
       "      <td>ENSMUSG00000102846</td>\n",
       "      <td>ENSMUST00000193165</td>\n",
       "      <td>68240529</td>\n",
       "      <td>68241113</td>\n",
       "    </tr>\n",
       "    <tr>\n",
       "      <th>1</th>\n",
       "      <td>ENSMUSG00000070342</td>\n",
       "      <td>ENSMUST00000180599</td>\n",
       "      <td>148927323</td>\n",
       "      <td>148931381</td>\n",
       "    </tr>\n",
       "    <tr>\n",
       "      <th>2</th>\n",
       "      <td>ENSMUSG00000070342</td>\n",
       "      <td>ENSMUST00000093950</td>\n",
       "      <td>148927323</td>\n",
       "      <td>148931381</td>\n",
       "    </tr>\n",
       "    <tr>\n",
       "      <th>3</th>\n",
       "      <td>ENSMUSG00000097515</td>\n",
       "      <td>ENSMUST00000181305</td>\n",
       "      <td>94316702</td>\n",
       "      <td>94320226</td>\n",
       "    </tr>\n",
       "    <tr>\n",
       "      <th>4</th>\n",
       "      <td>ENSMUSG00000103345</td>\n",
       "      <td>ENSMUST00000195366</td>\n",
       "      <td>68315116</td>\n",
       "      <td>68322033</td>\n",
       "    </tr>\n",
       "  </tbody>\n",
       "</table>\n",
       "</div>"
      ],
      "text/plain": [
       "              gene_id       transcript_id  gene_start   gene_end\n",
       "0  ENSMUSG00000102846  ENSMUST00000193165    68240529   68241113\n",
       "1  ENSMUSG00000070342  ENSMUST00000180599   148927323  148931381\n",
       "2  ENSMUSG00000070342  ENSMUST00000093950   148927323  148931381\n",
       "3  ENSMUSG00000097515  ENSMUST00000181305    94316702   94320226\n",
       "4  ENSMUSG00000103345  ENSMUST00000195366    68315116   68322033"
      ]
     },
     "execution_count": 8,
     "metadata": {},
     "output_type": "execute_result"
    }
   ],
   "source": [
    "#df_new = df_mouse.rename(columns={'Gene stable ID': 'gene_id', 'Transcript stable ID':'transcript_id','Gene start (bp)':'gene_start','Gene end (bp)':'gene_end'})\n",
    "#df_new.head()"
   ]
  },
  {
   "cell_type": "code",
   "execution_count": 16,
   "id": "d6b59922",
   "metadata": {},
   "outputs": [],
   "source": [
    "df_mouse = df_mouse.loc[0:99]\n",
    "df_human = df_human.loc[0:99]\n",
    "df_chicken = df_chicken.loc[0:99]"
   ]
  },
  {
   "cell_type": "code",
   "execution_count": 19,
   "id": "b8ff86f9",
   "metadata": {},
   "outputs": [],
   "source": [
    "df_mouse.to_csv('C:/Users/Lacey/.Neo4jDesktop/relate-data/dbmss/dbms-9cfc9c3c-4c56-4fb0-bc35-0d47f153a333/import/mouse3')\n",
    "df_human.to_csv('C:/Users/Lacey/.Neo4jDesktop/relate-data/dbmss/dbms-9cfc9c3c-4c56-4fb0-bc35-0d47f153a333/import/human')\n",
    "df_chicken.to_csv('C:/Users/Lacey/.Neo4jDesktop/relate-data/dbmss/dbms-9cfc9c3c-4c56-4fb0-bc35-0d47f153a333/import/chicken3')"
   ]
  },
  {
   "cell_type": "code",
   "execution_count": null,
   "id": "f07a38f5",
   "metadata": {},
   "outputs": [],
   "source": []
  },
  {
   "cell_type": "code",
   "execution_count": null,
   "id": "931afdbd",
   "metadata": {},
   "outputs": [],
   "source": []
  },
  {
   "cell_type": "code",
   "execution_count": null,
   "id": "c4a89c07",
   "metadata": {},
   "outputs": [],
   "source": []
  },
  {
   "cell_type": "code",
   "execution_count": null,
   "id": "d4d248ac",
   "metadata": {},
   "outputs": [],
   "source": []
  },
  {
   "cell_type": "code",
   "execution_count": null,
   "id": "599c551c",
   "metadata": {},
   "outputs": [],
   "source": []
  },
  {
   "cell_type": "code",
   "execution_count": null,
   "id": "5a8d6d07",
   "metadata": {},
   "outputs": [],
   "source": []
  },
  {
   "cell_type": "markdown",
   "id": "c400bcc9",
   "metadata": {},
   "source": [
    "# DF --> JSON"
   ]
  },
  {
   "cell_type": "code",
   "execution_count": null,
   "id": "f3c868fd",
   "metadata": {},
   "outputs": [],
   "source": [
    "result = df.to_json(orient=\"records\")\n",
    "parsed = json.loads(result)\n",
    "json.dumps(parsed, indent=4)  "
   ]
  },
  {
   "cell_type": "code",
   "execution_count": null,
   "id": "a7bd9aeb",
   "metadata": {},
   "outputs": [],
   "source": [
    "df.to_json(r'fasta_mouse.json')"
   ]
  },
  {
   "cell_type": "code",
   "execution_count": null,
   "id": "f9a92ad4",
   "metadata": {},
   "outputs": [],
   "source": []
  },
  {
   "cell_type": "markdown",
   "id": "3716e424",
   "metadata": {},
   "source": [
    "# Reading in a CSV of mouse chr 1"
   ]
  },
  {
   "cell_type": "code",
   "execution_count": null,
   "id": "665232fb",
   "metadata": {},
   "outputs": [],
   "source": [
    "df_mouse1 = pd.read_csv ('mouse_chr1.txt')\n",
    "#print(df_mouse1)"
   ]
  },
  {
   "cell_type": "code",
   "execution_count": null,
   "id": "50747123",
   "metadata": {},
   "outputs": [],
   "source": [
    "df_mouse1.head()"
   ]
  },
  {
   "cell_type": "code",
   "execution_count": null,
   "id": "591ca1b6",
   "metadata": {},
   "outputs": [],
   "source": []
  },
  {
   "cell_type": "code",
   "execution_count": null,
   "id": "991998ee",
   "metadata": {},
   "outputs": [],
   "source": []
  },
  {
   "cell_type": "code",
   "execution_count": null,
   "id": "7a9ea675",
   "metadata": {},
   "outputs": [],
   "source": []
  },
  {
   "cell_type": "code",
   "execution_count": null,
   "id": "989a16f1",
   "metadata": {},
   "outputs": [],
   "source": [
    "df_mousesm = pd.read_csv ('mouse1sm.txt')\n",
    "df_mousesm.head()"
   ]
  },
  {
   "cell_type": "code",
   "execution_count": null,
   "id": "2e9b32f0",
   "metadata": {},
   "outputs": [],
   "source": []
  },
  {
   "cell_type": "code",
   "execution_count": null,
   "id": "974aeff2",
   "metadata": {},
   "outputs": [],
   "source": [
    "df_comp = pd.read_csv ('complaints.csv')"
   ]
  },
  {
   "cell_type": "code",
   "execution_count": null,
   "id": "8430c853",
   "metadata": {},
   "outputs": [],
   "source": [
    "df_comp.head()"
   ]
  },
  {
   "cell_type": "code",
   "execution_count": null,
   "id": "bb750e55",
   "metadata": {},
   "outputs": [],
   "source": []
  },
  {
   "cell_type": "markdown",
   "id": "646f2bba",
   "metadata": {},
   "source": [
    "# Some genome stats"
   ]
  },
  {
   "cell_type": "code",
   "execution_count": null,
   "id": "505682c9",
   "metadata": {},
   "outputs": [],
   "source": [
    "LengthOfSequence=[]\n",
    "AATGGCAOc=[]\n",
    "CGCGCCGOc=[]\n",
    "TGCGCGCOc=[]\n",
    "CATCGCCOc=[]\n",
    "\n",
    "for name,seq in seqs.items():\n",
    "    LengthOfSequence.append(len(seq))\n",
    "    AATGGCAOc.append(seq.count('AATGGCA'))\n",
    "    CGCGCCGOc.append(seq.count('CGCGCCG'))\n",
    "    TGCGCGCOc.append(seq.count('TGCGCGC'))\n",
    "    CATCGCCOc.append(seq.count('CATCGCC'))\n",
    "    CATCGCCOc.append(seq.count('ATGCCCTAG'))"
   ]
  },
  {
   "cell_type": "code",
   "execution_count": null,
   "id": "76f9c91e",
   "metadata": {},
   "outputs": [],
   "source": [
    "#print('Total DNA Lengths {}'.format( sorted(LengthOfSequence)))\n",
    "\n",
    "# MOUSE FILE IS A PROTEOME SO THIS DOESN'T RETURN ANYTHING\n",
    "\n",
    "#print('AATGGCA {}'.format(sorted(AATGGCAOc)))\n",
    "#print('CGCGCCGOc {}'.format(sorted(CGCGCCGOc)))\n",
    "#print('TGCGCGCOc {}'.format(sorted(TGCGCGCOc)))\n",
    "#print('CATCGCCOc {}'.format(sorted(CATCGCCOc)))"
   ]
  },
  {
   "cell_type": "code",
   "execution_count": null,
   "id": "db057fc5",
   "metadata": {},
   "outputs": [],
   "source": [
    "name_lines = []\n",
    "name3 = []\n",
    "name4 = []\n",
    "for i in names:\n",
    "    name_lines.append(i)\n"
   ]
  },
  {
   "cell_type": "code",
   "execution_count": null,
   "id": "74cf4574",
   "metadata": {},
   "outputs": [],
   "source": [
    "for i in name_lines:\n",
    "    # print(i)\n",
    "    \n",
    "    words = i.split('|')\n",
    "    word = np.array(words)\n",
    "    #print(word)\n",
    "    name3.append(word)\n",
    "#print(name3)\n",
    "#print(name3[0])"
   ]
  },
  {
   "cell_type": "markdown",
   "id": "2551f3c9",
   "metadata": {},
   "source": [
    "# Fasta --> CSV\n",
    "\n",
    "Adapted from:\n",
    "\n",
    "https://birdlet.github.io/2017/12/13/fasta2csv/"
   ]
  },
  {
   "cell_type": "code",
   "execution_count": null,
   "id": "72b2121c",
   "metadata": {},
   "outputs": [],
   "source": [
    "file = open('ls_orchid.fasta', 'r')\n",
    "lines_i = file.readlines()\n",
    "seq = ''"
   ]
  },
  {
   "cell_type": "code",
   "execution_count": null,
   "id": "d9bc680e",
   "metadata": {},
   "outputs": [],
   "source": [
    "for l in lines_i:\n",
    "    if l[0] == '>':\n",
    "        'Fasta head line'\n",
    "        seq_id = l.strip()\n",
    "    else:\n",
    "        'Sequence line'\n",
    "        seq += l.strip()"
   ]
  },
  {
   "cell_type": "code",
   "execution_count": null,
   "id": "60b97ba1",
   "metadata": {},
   "outputs": [],
   "source": [
    "l = []\n",
    "lines = [str(seq_id) + '\\n']"
   ]
  },
  {
   "cell_type": "code",
   "execution_count": null,
   "id": "9b68a357",
   "metadata": {},
   "outputs": [],
   "source": [
    "for i, c in enumerate(seq):\n",
    "    l.append(c)\n",
    " #   print(i)\n",
    " #   print(c)\n",
    "    if i % 60 == 59:\n",
    "        lines.append(','.join(l) + '\\n')\n",
    "        l = []"
   ]
  },
  {
   "cell_type": "code",
   "execution_count": null,
   "id": "8756a628",
   "metadata": {},
   "outputs": [],
   "source": [
    "if l != []:\n",
    "    lines.append(','.join(l) + '\\n')\n",
    "   # print(lines)"
   ]
  },
  {
   "cell_type": "code",
   "execution_count": null,
   "id": "7276bb6e",
   "metadata": {},
   "outputs": [],
   "source": [
    "file = open('output.csv', 'w')\n",
    "file.writelines(lines)\n",
    "file.close()"
   ]
  },
  {
   "cell_type": "code",
   "execution_count": null,
   "id": "3bf03cfb",
   "metadata": {},
   "outputs": [],
   "source": []
  }
 ],
 "metadata": {
  "kernelspec": {
   "display_name": "Python 3",
   "language": "python",
   "name": "python3"
  },
  "language_info": {
   "codemirror_mode": {
    "name": "ipython",
    "version": 3
   },
   "file_extension": ".py",
   "mimetype": "text/x-python",
   "name": "python",
   "nbconvert_exporter": "python",
   "pygments_lexer": "ipython3",
   "version": "3.7.6"
  }
 },
 "nbformat": 4,
 "nbformat_minor": 5
}
